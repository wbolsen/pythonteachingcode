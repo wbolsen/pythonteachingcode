{
 "cells": [
  {
   "cell_type": "markdown",
   "metadata": {},
   "source": [
    "# Python Fundamentals Module 3: List Iteration (P2M3)\n",
    "\"iteration\" going through the items \n",
    "# The Power of List Iteration\n",
    "- **for in: `for` loop using `in`**\n",
    "- for range: **`for range(start,stop,step)`** \n",
    "- more list methods: **`.extend()`, `+, .reverse(), .sort()`**   \n",
    "- strings to lists, **`.split()`**, and list to strings, **`.join()`**   \n",
    "\n",
    "\n",
    "----- \n",
    "\n",
    "><font size=\"5\" color=\"#00A0B2\"  face=\"verdana\"> <B>Student will be able to</B></font>  \n",
    "- **Iterate through Lists** using **`for`** with **`in`**\n",
    "- Use **`for range()`** in looping operations  \n",
    "- Use list methods **`.extend()`, `+, .reverse(), .sort()`**  \n",
    "- convert between lists and strings using  **`.split()`** and **`.join()`**  "
   ]
  },
  {
   "cell_type": "markdown",
   "metadata": {
    "collapsed": true
   },
   "source": [
    "# &nbsp;\n",
    "<font size=\"6\" color=\"#00A0B2\"  face=\"verdana\"> <B>Concepts</B></font>\n",
    "## Iterate through Lists using \n",
    "# ` for in`\n",
    "[![view video](images/play.svg)](https://youtu.be/J_Hmj7W_nzU)\n",
    "```python\n",
    "cities = [\"New York\", \"Shanghai\", \"Munich\", \"Tokyo\", \"Dubai\", \"Mexico City\", \"São Paulo\", \"Hyderabad\"]\n",
    "\n",
    "for city in cities:\n",
    "    print(city)\n",
    "```"
   ]
  },
  {
   "cell_type": "markdown",
   "metadata": {},
   "source": [
    "\n",
    "<font size=\"4\" color=\"#00A0B2\"  face=\"verdana\"> <B>Examples</B></font>"
   ]
  },
  {
   "cell_type": "code",
   "execution_count": 9,
   "metadata": {},
   "outputs": [
    {
     "name": "stdout",
     "output_type": "stream",
     "text": [
      "New York\n",
      "Shanghai\n",
      "Munich\n",
      "Tokyo\n",
      "Dubai\n",
      "Mexico City\n",
      "São Paulo\n",
      "Hyderabad\n"
     ]
    }
   ],
   "source": [
    "# [ ] review and run example\n",
    "cities = [\"New York\", \"Shanghai\", \"Munich\", \"Tokyo\", \"Dubai\", \"Mexico City\", \"São Paulo\", \"Hyderabad\"]\n",
    "\n",
    "for city in cities:\n",
    "    print(city)"
   ]
  },
  {
   "cell_type": "code",
   "execution_count": 7,
   "metadata": {},
   "outputs": [
    {
     "name": "stdout",
     "output_type": "stream",
     "text": [
      "total sales: 124\n"
     ]
    }
   ],
   "source": [
    "# [ ] review and run example\n",
    "sales = [6, 8, 9, 11, 12, 17, 19, 20, 22]\n",
    "total = 0\n",
    "\n",
    "for sale in sales:\n",
    "    total += sale\n",
    "    \n",
    "print(\"total sales:\", total)\n",
    "    \n"
   ]
  },
  {
   "cell_type": "markdown",
   "metadata": {},
   "source": [
    "change the iterator variable name from \"sale\" to \"dollars\" or to any valid name"
   ]
  },
  {
   "cell_type": "code",
   "execution_count": 8,
   "metadata": {},
   "outputs": [
    {
     "name": "stdout",
     "output_type": "stream",
     "text": [
      "total sales: 124\n"
     ]
    }
   ],
   "source": [
    "# [ ] review and run example \n",
    "sales = [6, 8, 9, 11, 12, 17, 19, 20, 22]\n",
    "total = 0\n",
    "\n",
    "for dollars in sales:\n",
    "    total += dollars\n",
    "    \n",
    "print(\"total sales:\", total)"
   ]
  },
  {
   "cell_type": "markdown",
   "metadata": {
    "collapsed": true
   },
   "source": [
    "# &nbsp;\n",
    "<font size=\"6\" color=\"#B24C00\"  face=\"verdana\"> <B>Task 1</B></font>\n",
    "\n",
    "### Iterate through Lists using `in`"
   ]
  },
  {
   "cell_type": "code",
   "execution_count": 4,
   "metadata": {},
   "outputs": [
    {
     "name": "stdout",
     "output_type": "stream",
     "text": [
      "Jit\n",
      "Eagle\n",
      "Pigeon\n",
      "Boobie\n",
      "Robin\n",
      "Jay\n"
     ]
    }
   ],
   "source": [
    "# [ ] create a list of 4 to 6 strings: birds\n",
    "# print each bird in the list\n",
    "birds = [\"Jit\", \"Eagle\", \"Pigeon\", \"Boobie\", \"Robin\", \"Jay\"]\n",
    "\n",
    "for bird in birds:\n",
    "    print(bird)\n"
   ]
  },
  {
   "cell_type": "code",
   "execution_count": 3,
   "metadata": {},
   "outputs": [
    {
     "name": "stdout",
     "output_type": "stream",
     "text": [
      "34\n",
      "162\n",
      "182\n",
      "96\n",
      "94\n",
      "146\n",
      "66\n"
     ]
    }
   ],
   "source": [
    "# [ ]  create a list of 7 integers: player_points\n",
    "# [ ] print double the points for each point value\n",
    "player_points = [17, 81, 91, 48, 47, 73, 33]\n",
    "\n",
    "for point in player_points:\n",
    "    print(point * 2)\n"
   ]
  },
  {
   "cell_type": "code",
   "execution_count": 5,
   "metadata": {},
   "outputs": [
    {
     "name": "stdout",
     "output_type": "stream",
     "text": [
      "Jit Eagle Pigeon Boobie Robin Jay\n"
     ]
    }
   ],
   "source": [
    "# [ ] create long_string by concatenating the items in the \"birds\" list previously created\n",
    "# print long_string - make sure to put a space betweeen the bird names\n",
    "birds = [\"Jit\", \"Eagle\", \"Pigeon\", \"Boobie\", \"Robin\", \"Jay\"]\n",
    "\n",
    "long_string = \" \".join(birds)\n",
    "\n",
    "print(long_string)\n"
   ]
  },
  {
   "cell_type": "markdown",
   "metadata": {},
   "source": [
    "# &nbsp;\n",
    "<font size=\"6\" color=\"#00A0B2\"  face=\"verdana\"> <B>Concepts</B></font>\n",
    "## Sort and Filter\n",
    "### use comparison operators while iterating lists\n"
   ]
  },
  {
   "cell_type": "markdown",
   "metadata": {},
   "source": [
    "\n",
    "<font size=\"4\" color=\"#00A0B2\"  face=\"verdana\"> <B>Examples</B></font>"
   ]
  },
  {
   "cell_type": "code",
   "execution_count": 6,
   "metadata": {},
   "outputs": [
    {
     "name": "stdout",
     "output_type": "stream",
     "text": [
      "\n",
      "calcaneus\n",
      "talus\n",
      "cuboid\n",
      "navicular\n",
      "\n",
      "lateral cuneiform\n",
      "intermediate cuneiform\n",
      "medial cuneiform\n"
     ]
    }
   ],
   "source": [
    "# [ ] review and run example of sorting into strings to display\n",
    "foot_bones = [\"calcaneus\", \"talus\", \"cuboid\", \"navicular\", \"lateral cuneiform\", \n",
    "            \"intermediate cuneiform\", \"medial cuneiform\"]\n",
    "longer_names = \"\"\n",
    "shorter_names = \"\"\n",
    "\n",
    "for bone_name in foot_bones:\n",
    "    if len(bone_name) < 10:\n",
    "        shorter_names += \"\\n\" + bone_name\n",
    "    else:\n",
    "        longer_names += \"\\n\" + bone_name\n",
    "\n",
    "print(shorter_names)\n",
    "print(longer_names)\n"
   ]
  },
  {
   "cell_type": "code",
   "execution_count": 10,
   "metadata": {},
   "outputs": [
    {
     "name": "stdout",
     "output_type": "stream",
     "text": [
      "['calcaneus', 'talus', 'cuboid', 'navicular']\n",
      "['lateral cuneiform', 'intermediate cuneiform', 'medial cuneiform']\n"
     ]
    }
   ],
   "source": [
    "# [ ] review and run example of sorting into lists\n",
    "foot_bones = [\"calcaneus\", \"talus\", \"cuboid\", \"navicular\", \"lateral cuneiform\", \n",
    "            \"intermediate cuneiform\", \"medial cuneiform\"]\n",
    "longer_names = []\n",
    "shorter_names = []\n",
    "\n",
    "for bone_name in foot_bones:\n",
    "    if len(bone_name) < 10:\n",
    "        shorter_names.append(bone_name)\n",
    "    else:\n",
    "        longer_names.append(bone_name)\n",
    "\n",
    "print(shorter_names)\n",
    "print(longer_names)"
   ]
  },
  {
   "cell_type": "markdown",
   "metadata": {
    "collapsed": true
   },
   "source": [
    "# &nbsp;\n",
    "<font size=\"6\" color=\"#B24C00\"  face=\"verdana\"> <B>Task 2</B></font>\n",
    "\n",
    "## sort and filter"
   ]
  },
  {
   "cell_type": "code",
   "execution_count": 11,
   "metadata": {},
   "outputs": [
    {
     "name": "stdout",
     "output_type": "stream",
     "text": [
      "Munich\n",
      "Mexico City\n"
     ]
    }
   ],
   "source": [
    "# [ ] Using cities from the example above iterate throught the list using \"for\"/\"in\"\n",
    "# [ ] Print only cities starting with \"m\"\n",
    "\n",
    "for city in cities:\n",
    "    if city.startswith(\"M\"):\n",
    "        print (city)\n",
    "\n"
   ]
  },
  {
   "cell_type": "code",
   "execution_count": 13,
   "metadata": {},
   "outputs": [
    {
     "name": "stdout",
     "output_type": "stream",
     "text": [
      "['Shanghai', 'Dubai', 'São Paulo', 'Hyderabad']\n",
      "['New York', 'Munich', 'Tokyo', 'Mexico City']\n"
     ]
    }
   ],
   "source": [
    "# [ ] Using cities from the example above iterate throught the list using \"for\"/\"in\"\n",
    "# cities = [\"New York\", \"Shanghai\", \"Munich\", \"Tokyo\", \"Dubai\", \"Mexico City\", \"São Paulo\", \"Hyderabad\"]\n",
    "# [ ] sort into lists with \"A\" in the city name and without \"A\" in the name: a_city & no_a_city\n",
    "cities = [\"New York\", \"Shanghai\", \"Munich\", \"Tokyo\", \"Dubai\", \"Mexico City\", \"São Paulo\", \"Hyderabad\"]\n",
    "with_a = []\n",
    "without_a = []\n",
    "\n",
    "for x in cities:\n",
    "    if \"a\" in x.lower():\n",
    "        with_a.append(x)\n",
    "    else:\n",
    "        without_a.append(x)\n",
    "\n",
    "print(with_a)\n",
    "print(without_a)"
   ]
  },
  {
   "cell_type": "markdown",
   "metadata": {
    "collapsed": true
   },
   "source": [
    "# &nbsp;\n",
    "<font size=\"6\" color=\"#00A0B2\"  face=\"verdana\"> <B>Concepts</B></font>  \n",
    "## More iteration of lists\n",
    "## - Counting\n",
    "## - Searching\n",
    "\n",
    "### use string methods while iterating lists"
   ]
  },
  {
   "cell_type": "markdown",
   "metadata": {},
   "source": [
    "\n",
    "<font size=\"4\" color=\"#00A0B2\"  face=\"verdana\"> <B>Examples</B></font>"
   ]
  },
  {
   "cell_type": "code",
   "execution_count": 13,
   "metadata": {},
   "outputs": [
    {
     "name": "stdout",
     "output_type": "stream",
     "text": [
      "The total # of \"e\" found in the list is 3\n"
     ]
    }
   ],
   "source": [
    "# [ ] review and run example\n",
    "# iterates the \"cities\" list, count & sum letter \"a\" in each city name\n",
    "\n",
    "cities = [\"New York\", \"Shanghai\", \"Munich\", \"Tokyo\", \"Dubai\", \"Mexico City\", \"São Paulo\", \"Hyderabad\"]\n",
    "search_letter = \"a\"\n",
    "total = 0\n",
    "\n",
    "for city_name in cities:\n",
    "    total += city_name.lower().count(search_letter)\n",
    "\n",
    "print(\"The total # of \\\"\" + search_letter + \"\\\" found in the list is\", total)"
   ]
  },
  {
   "cell_type": "markdown",
   "metadata": {},
   "source": [
    "<font size=\"4\" color=\"#00A0B2\"  face=\"verdana\"> <B>search function</B></font>"
   ]
  },
  {
   "cell_type": "code",
   "execution_count": 14,
   "metadata": {},
   "outputs": [
    {
     "name": "stdout",
     "output_type": "stream",
     "text": [
      "enter a city visited: new york\n",
      "new york in default cities is True\n",
      "new york in visitied_cites list is True\n"
     ]
    }
   ],
   "source": [
    "# [ ] review and run example\n",
    "# city_search function has a default list of cities to search\n",
    "def city_search(search_item, cities = [\"New York\", \"Shanghai\", \"Munich\", \"Tokyo\"] ):\n",
    "    for city in cities:\n",
    "        if city.lower() == search_item.lower():\n",
    "            return True\n",
    "        else:\n",
    "            # go to the next item\n",
    "            pass\n",
    "    # no more items in list\n",
    "    return False\n",
    "\n",
    "# a list of cities\n",
    "visited_cities = [\"New York\", \"Shanghai\", \"Munich\", \"Tokyo\", \"Dubai\", \"Mexico City\", \"São Paulo\", \"Hyderabad\"]\n",
    "\n",
    "search = input(\"enter a city visited: \")\n",
    "\n",
    "# Search the default city list\n",
    "print(search, \"in default cities is\", city_search(search))\n",
    "\n",
    "# search the list visited_cities using 2nd argument\n",
    "print(search, \"in visited_cites list is\", city_search(search,visited_cities))"
   ]
  },
  {
   "cell_type": "markdown",
   "metadata": {},
   "source": [
    "# &nbsp;\n",
    "<font size=\"6\" color=\"#B24C00\"  face=\"verdana\"> <B>Task 3</B></font>  \n",
    "## Program: Paint Stock  \n",
    "check a list for a paint color request and print status of color \"found\"/\"not found\"\n",
    "- create list, paint_colors, with 5+ colors\n",
    "- get user input of string:color_request\n",
    "- iterate through each color in paint_colors to check for a match with color_request"
   ]
  },
  {
   "cell_type": "code",
   "execution_count": 28,
   "metadata": {},
   "outputs": [
    {
     "name": "stdout",
     "output_type": "stream",
     "text": [
      "Found\n"
     ]
    }
   ],
   "source": [
    "# [ ] complete paint stock\n",
    "paint_colors = [\"red\",\"blue\",\"white\",\"orange\",\"purple\",\"yellow\",\"grey\"]\n",
    "\n",
    "color_request = input()\n",
    "match_found = False\n",
    "\n",
    "for x in paint_colors:\n",
    "    if color_request.lower() == x.lower():\n",
    "        print(\"Found\")\n",
    "        match_found = True\n",
    "        break\n",
    "\n",
    "if not match_found:\n",
    "    print(\"Not Found\")  \n",
    "\n"
   ]
  },
  {
   "cell_type": "markdown",
   "metadata": {
    "collapsed": true
   },
   "source": [
    "# &nbsp;\n",
    "<font size=\"6\" color=\"#B24C00\"  face=\"verdana\"> <B>Task 4</B></font>  \n",
    "## Program: Foot Bones Quiz\n",
    "**Create a function** that will iterate through foot_bones looking for a match of a string argument\n",
    "- Call the function 2 times with the name of a footbone \n",
    "- print immediate feedback for each answer (correct - incorrect)\n",
    "- print the total # of foot_bones identified\n",
    "\n",
    "\n",
    "The program will use the foot_bones list:\n",
    "```python \n",
    "foot_bones = [\"calcaneus\", \"talus\", \"cuboid\", \"navicular\", \"lateral cuneiform\",\n",
    "             \"intermediate cuneiform\", \"medial cuneiform\"]\n",
    "```\n",
    "Bonus: remove correct response item from list if correct so user cannot answer same item twice"
   ]
  },
  {
   "cell_type": "code",
   "execution_count": 1,
   "metadata": {},
   "outputs": [
    {
     "name": "stdout",
     "output_type": "stream",
     "text": [
      "Correct!\n",
      "Incorrect!\n",
      "Total number of foot bones identified: 1\n"
     ]
    }
   ],
   "source": [
    "# [ ] Complete Foot Bones Quiz\n",
    "# foot_bones = [\"calcaneus\", \"talus\", \"cuboid\", \"navicular\", \"lateral cuneiform\",\n",
    "#             \"intermediate cuneiform\", \"medial cuneiform\"]\n",
    "foot_bones = [\"calcaneus\", \"talus\", \"cuboid\", \"navicular\", \"lateral cuneiform\",\n",
    "              \"intermediate cuneiform\", \"medial cuneiform\"]\n",
    "\n",
    "def find_foot_bone(bone_name):\n",
    "    for bone in foot_bones:\n",
    "        if bone.lower() == bone_name.lower():\n",
    "            print(\"Correct!\")\n",
    "            return True  \n",
    "    print(\"Incorrect!\")\n",
    "    return False \n",
    "\n",
    "correct_count = 0\n",
    "\n",
    "if find_foot_bone(\"calcaneus\"):\n",
    "    correct_count += 1\n",
    "if find_foot_bone(\"metatarsal\"):  \n",
    "    correct_count += 1\n",
    "\n",
    "print(f\"Total number of foot bones identified: {correct_count}\")\n"
   ]
  },
  {
   "cell_type": "code",
   "execution_count": null,
   "metadata": {},
   "outputs": [],
   "source": [
    "# [ ] bonus version\n",
    "\n"
   ]
  },
  {
   "cell_type": "markdown",
   "metadata": {},
   "source": [
    "# Module 3 Part 2\n",
    "# The Power of List Iteration (loops)\n",
    "- for in: **`for`** loop using **`in`**\n",
    "- ** for range: `for range(start,stop,step)`** \n",
    "- more list methods: **`.extend()`, `+, .reverse(), .sort()`**      \n",
    "- strings to lists, **`.split()`**, and list to strings, **`.join()`**   \n",
    "\n",
    "\n",
    "----- \n",
    "\n",
    "><font size=\"5\" color=\"#00A0B2\"  face=\"verdana\"> <B>Student will be able to</B></font>  \n",
    "- Iterate through Lists using **`for`** with **`in`**\n",
    "- **Use `for range()` in looping operations**  \n",
    "- Use list methods **`.extend()`, `+, .reverse(), .sort()`**  \n",
    "- convert between lists and strings using  **`.split()`** and **`.join()`**"
   ]
  },
  {
   "cell_type": "markdown",
   "metadata": {},
   "source": [
    "# &nbsp;\n",
    "<font size=\"6\" color=\"#00A0B2\"  face=\"verdana\"> <B>Concepts</B></font>\n",
    "##  `range(stop)`\n",
    "### The range(*stop*) function creates a sequence  \n",
    "using 1 argument with range(*stop*)\n",
    "- deault start: 0\n",
    "- stop: stopping integer, does not process stop number\n",
    "```python\n",
    "for count in range(10):\n",
    "  print(count)\n",
    "```\n",
    "### same as\n",
    "```python\n",
    "for count in [0, 1, 2, 3, 4, 5, 6, 7, 8, 9]:\n",
    "  print(count)\n",
    "```\n"
   ]
  },
  {
   "cell_type": "markdown",
   "metadata": {},
   "source": [
    "\n",
    "<font size=\"4\" color=\"#00A0B2\"  face=\"verdana\"> <B>Examples</B></font>  \n",
    "### range runs from `0` through the integer before `stop`"
   ]
  },
  {
   "cell_type": "code",
   "execution_count": 15,
   "metadata": {},
   "outputs": [
    {
     "name": "stdout",
     "output_type": "stream",
     "text": [
      "0\n",
      "1\n",
      "2\n",
      "3\n",
      "4\n",
      "5\n",
      "6\n",
      "7\n",
      "8\n",
      "9\n"
     ]
    }
   ],
   "source": [
    "# [ ] review and run example\n",
    "for count in range(10):\n",
    "  print(count)"
   ]
  },
  {
   "cell_type": "code",
   "execution_count": 18,
   "metadata": {},
   "outputs": [
    {
     "name": "stdout",
     "output_type": "stream",
     "text": [
      "digits = [0, 1, 2, 3, 4, 5, 6, 7, 8, 9] \n",
      "\n",
      "0\n",
      "1\n",
      "2\n",
      "3\n",
      "4\n",
      "5\n",
      "6\n",
      "7\n",
      "8\n",
      "9\n"
     ]
    }
   ],
   "source": [
    "# review and run example\n",
    "digits = range(10)\n",
    "print(\"digits =\", list(digits), \"\\n\")\n",
    "\n",
    "for count in digits:\n",
    "    print(count)"
   ]
  },
  {
   "cell_type": "code",
   "execution_count": 19,
   "metadata": {},
   "outputs": [
    {
     "name": "stdout",
     "output_type": "stream",
     "text": [
      "sub_total: 0\n",
      "sub_total: 1\n",
      "sub_total: 3\n",
      "sub_total: 6\n",
      "sub_total: 10\n",
      "sub_total: 15\n",
      "sub_total: 21\n",
      "sub_total: 28\n",
      "sub_total: 36\n",
      "sub_total: 45\n",
      "Total = 45\n"
     ]
    }
   ],
   "source": [
    "# [ ] review and run example\n",
    "sub_total = 0\n",
    "for item in range(10):\n",
    "    sub_total += item\n",
    "    print(\"sub_total:\", sub_total)\n",
    "print(\"Total =\", sub_total)"
   ]
  },
  {
   "cell_type": "code",
   "execution_count": 20,
   "metadata": {},
   "outputs": [
    {
     "name": "stdout",
     "output_type": "stream",
     "text": [
      "Tuesday\n",
      "Wednesday\n",
      "February\n"
     ]
    }
   ],
   "source": [
    "# [ ] review and run example\n",
    "# print the first half of a spelling list\n",
    "spell_list = [\"Tuesday\", \"Wednesday\", \"February\", \"November\", \"Annual\", \"Calendar\", \"Solstice\"]\n",
    "\n",
    "# find length of 1st half of list (must be int)\n",
    "half_1 = int(len(spell_list)/2)\n",
    "\n",
    "for word in range(half_1):\n",
    "    print(spell_list[word])"
   ]
  },
  {
   "cell_type": "markdown",
   "metadata": {
    "collapsed": true
   },
   "source": [
    "# &nbsp;\n",
    "<font size=\"6\" color=\"#B24C00\"  face=\"verdana\"> <B>Task 5</B></font>\n",
    "\n",
    "## `range(stop)`"
   ]
  },
  {
   "cell_type": "code",
   "execution_count": 3,
   "metadata": {},
   "outputs": [
    {
     "name": "stdout",
     "output_type": "stream",
     "text": [
      "1\n",
      "2\n",
      "3\n",
      "4\n",
      "5\n",
      "6\n"
     ]
    }
   ],
   "source": [
    "# [ ] for x = 6, use range(x) to print the numbers 1 through 6\n",
    "x = 6\n",
    "for count in range(x):\n",
    "    print(count + 1)"
   ]
  },
  {
   "cell_type": "code",
   "execution_count": 28,
   "metadata": {},
   "outputs": [
    {
     "name": "stdout",
     "output_type": "stream",
     "text": [
      "1 x 1 = 1\n",
      "2 x 1 = 2\n",
      "3 x 2 = 6\n",
      "4 x 6 = 24\n",
      "5 x 24 = 120\n",
      "6 x 120 = 720\n",
      "7 x 720 = 5040\n",
      "5040\n"
     ]
    }
   ],
   "source": [
    "# [ ] using range(x) multiply the numbers 1 through 7\n",
    "# 1x2x3x4x5x6x7 = 5040\n"
   ]
  },
  {
   "cell_type": "markdown",
   "metadata": {},
   "source": [
    "Use **`range(stop)`** to print the second half of spell_list below"
   ]
  },
  {
   "cell_type": "code",
   "execution_count": 13,
   "metadata": {},
   "outputs": [
    {
     "name": "stdout",
     "output_type": "stream",
     "text": [
      "half = 3\n",
      "November\n",
      "Annual\n",
      "Calendar\n",
      "Solstice\n"
     ]
    }
   ],
   "source": [
    "# [ ] print the second half of a spelling list using a range(stop) loop to iterate the list\n",
    "spell_list = [\"Wednesday\", \"Tuesday\", \"February\", \"November\", \"Annual\", \"Calendar\", \"Solstice\"]\n"
   ]
  },
  {
   "cell_type": "markdown",
   "metadata": {},
   "source": [
    "# &nbsp;\n",
    "<font size=\"6\" color=\"#00A0B2\"  face=\"verdana\"> <B>Concepts</B></font>\n",
    "##  `range(start,stop)`\n",
    "### The range(*start,stop*) function creates a sequence\n",
    "using 2 arguments with range(*start,stop*)\n",
    "- start: starting integer value of a range loop\n",
    "- stop: stopping integer (second argument), does not process stop number \n",
    "```python\n",
    "for count in range(5,10):\n",
    "  print(count)\n",
    "```\n"
   ]
  },
  {
   "cell_type": "markdown",
   "metadata": {},
   "source": [
    "\n",
    "<font size=\"4\" color=\"#00A0B2\"  face=\"verdana\"> <B>Examples</B></font>  \n",
    "### range runs from `start` integer through the integer before `stop`"
   ]
  },
  {
   "cell_type": "code",
   "execution_count": 29,
   "metadata": {},
   "outputs": [
    {
     "name": "stdout",
     "output_type": "stream",
     "text": [
      "5\n",
      "6\n",
      "7\n",
      "8\n",
      "9\n"
     ]
    }
   ],
   "source": [
    "# [ ] review and run example\n",
    "for count in range(5,10):\n",
    "  print(count)"
   ]
  },
  {
   "cell_type": "code",
   "execution_count": 30,
   "metadata": {},
   "outputs": [
    {
     "name": "stdout",
     "output_type": "stream",
     "text": [
      "sub_total: 0 + 5 = 5\n",
      "sub_total: 5 + 6 = 11\n",
      "sub_total: 11 + 7 = 18\n",
      "sub_total: 18 + 8 = 26\n",
      "sub_total: 26 + 9 = 35\n",
      "sub_total: 35 + 10 = 45\n",
      "Total = 45\n"
     ]
    }
   ],
   "source": [
    "# [ ] review and run example\n",
    "sub_total = 0\n",
    "temp = 0\n",
    "for item in range(5, 11):\n",
    "    temp = sub_total\n",
    "    sub_total += item\n",
    "    print(\"sub_total:\", temp, \"+\", item, \"=\",sub_total)\n",
    "print(\"Total =\", sub_total)"
   ]
  },
  {
   "cell_type": "code",
   "execution_count": 31,
   "metadata": {},
   "outputs": [
    {
     "name": "stdout",
     "output_type": "stream",
     "text": [
      "November\n",
      "Annual\n",
      "Calendar\n",
      "Solstice\n"
     ]
    }
   ],
   "source": [
    "# [ ] review and run example\n",
    "\n",
    "spell_list = [\"Tuesday\", \"Wednesday\", \"February\", \"November\", \"Annual\", \"Calendar\", \"Solstice\"]\n",
    "\n",
    "# find length list \n",
    "spell_len = len(spell_list)\n",
    "# find lenght of 1st half (aka - start of 2nd half)\n",
    "half_1 = int(spell_len/2)\n",
    "\n",
    "# print 2nd half list\n",
    "for word in range(half_1,spell_len):\n",
    "    print(spell_list[word])"
   ]
  },
  {
   "cell_type": "markdown",
   "metadata": {
    "collapsed": true
   },
   "source": [
    "# &nbsp;\n",
    "<font size=\"6\" color=\"#B24C00\"  face=\"verdana\"> <B>Task 6</B></font>\n",
    "\n",
    "##  `range(start,stop)`"
   ]
  },
  {
   "cell_type": "code",
   "execution_count": 4,
   "metadata": {},
   "outputs": [
    {
     "name": "stdout",
     "output_type": "stream",
     "text": [
      "[5, 6, 7, 8, 9, 10, 11, 12, 13, 14, 15]\n"
     ]
    }
   ],
   "source": [
    "# [ ] using range(start,stop), .append() the numbers 5 to 15 to the list: five_fifteen\n",
    "# [ ] print list five_fifteen\n",
    "five_fifteen = []\n",
    "for num in range(5, 16): \n",
    "    five_fifteen.append(num)\n",
    "\n",
    "print(five_fifteen)\n"
   ]
  },
  {
   "cell_type": "code",
   "execution_count": 5,
   "metadata": {},
   "outputs": [
    {
     "name": "stdout",
     "output_type": "stream",
     "text": [
      "February\n",
      "November\n",
      "Annual\n"
     ]
    }
   ],
   "source": [
    "# [ ] using range(start,stop) - print the 3rd, 4th and 5th words in spell_list\n",
    "# output should include \"February\", \"November\", \"Annual\"\n",
    "spell_list = [\"Tuesday\", \"Wednesday\", \"February\", \"November\", \"Annual\", \"Calendar\", \"Solstice\"]\n",
    "\n",
    "for i in range(2, 5):\n",
    "    print(spell_list[i])"
   ]
  },
  {
   "cell_type": "code",
   "execution_count": 6,
   "metadata": {},
   "outputs": [
    {
     "name": "stdout",
     "output_type": "stream",
     "text": [
      "Index of 'Annual': 4\n",
      "Annual\n",
      "Calendar\n",
      "Solstice\n"
     ]
    }
   ],
   "source": [
    "# [ ] using code find the index of \"Annual\" in spell_list\n",
    "# [ ] using range, print the spell_list including \"Annual\" to end of list\n",
    "spell_list = [\"Tuesday\", \"Wednesday\", \"February\", \"November\", \"Annual\", \"Calendar\", \"Solstice\"]\n",
    "\n",
    "annual_index = spell_list.index(\"Annual\")\n",
    "print(\"Index of 'Annual':\", annual_index)\n",
    "\n",
    "for i in range(annual_index, len(spell_list)):\n",
    "    print(spell_list[i])"
   ]
  },
  {
   "cell_type": "markdown",
   "metadata": {},
   "source": [
    "# &nbsp;\n",
    "<font size=\"6\" color=\"#00A0B2\"  face=\"verdana\"> <B>Concepts</B></font>\n",
    "##  `range(start,stop,step)`\n",
    "### The range(*start,stop,step*) function creates a sequence\n",
    "using 3 arguments with range(*start,stop,step*)\n",
    "- start: starting integer value of a range loop\n",
    "- stop: stopping integer (second argument), does not process stop number \n",
    "- step: skip value for each loop\n",
    "```python\n",
    "for count in range(10,101,10):\n",
    "  print(count)\n",
    "```\n"
   ]
  },
  {
   "cell_type": "markdown",
   "metadata": {},
   "source": [
    "\n",
    "<font size=\"4\" color=\"#00A0B2\"  face=\"verdana\"> <B>Examples</B></font>  \n",
    "### range runs from `start` integer, skipping by `step`, through the largest `step` integer before reaching `stop`"
   ]
  },
  {
   "cell_type": "code",
   "execution_count": 32,
   "metadata": {},
   "outputs": [
    {
     "name": "stdout",
     "output_type": "stream",
     "text": [
      "25\n",
      "50\n",
      "75\n",
      "100\n"
     ]
    }
   ],
   "source": [
    "# [ ] review and run example\n",
    "for count in range(25,101,25):\n",
    "  print(count)"
   ]
  },
  {
   "cell_type": "code",
   "execution_count": 33,
   "metadata": {},
   "outputs": [
    {
     "name": "stdout",
     "output_type": "stream",
     "text": [
      "sub_total: 0 + 25 = 25\n",
      "sub_total: 25 + 30 = 55\n",
      "sub_total: 55 + 35 = 90\n",
      "sub_total: 90 + 40 = 130\n",
      "sub_total: 130 + 45 = 175\n",
      "Total = 175\n"
     ]
    }
   ],
   "source": [
    "# [ ] review and run example\n",
    "sub_total = 0\n",
    "temp = 0\n",
    "for item in range(25,46,5):\n",
    "    temp = sub_total\n",
    "    sub_total += item\n",
    "    print(\"sub_total:\", temp, \"+\", item, \"=\",sub_total)\n",
    "print(\"Total =\", sub_total)"
   ]
  },
  {
   "cell_type": "code",
   "execution_count": 34,
   "metadata": {},
   "outputs": [
    {
     "name": "stdout",
     "output_type": "stream",
     "text": [
      "Tuesday\n",
      "February\n",
      "Annual\n",
      "Solstice\n"
     ]
    }
   ],
   "source": [
    "# [ ] review and run example printing the 1st and then every other word in spell_list\n",
    "spell_list = [\"Tuesday\", \"Wednesday\", \"February\", \"November\", \"Annual\", \"Calendar\", \"Solstice\"]\n",
    "\n",
    "for index in range(0,len(spell_list),2):\n",
    "    print(spell_list[index])"
   ]
  },
  {
   "cell_type": "code",
   "execution_count": 35,
   "metadata": {},
   "outputs": [
    {
     "name": "stdout",
     "output_type": "stream",
     "text": [
      "[1, 3, 5, 7, 9, 11, 13, 15, 17, 19]\n"
     ]
    }
   ],
   "source": [
    "# [ ] review and run example casting range to list\n",
    "odd_list = list(range(1,20,2))\n",
    "print(odd_list)"
   ]
  },
  {
   "cell_type": "markdown",
   "metadata": {
    "collapsed": true
   },
   "source": [
    "# &nbsp;\n",
    "<font size=\"6\" color=\"#B24C00\"  face=\"verdana\"> <B>Task 7</B></font>  \n",
    "## `range(start,stop,step)`"
   ]
  },
  {
   "cell_type": "code",
   "execution_count": 7,
   "metadata": {},
   "outputs": [
    {
     "name": "stdout",
     "output_type": "stream",
     "text": [
      "[10, 12, 14, 16, 18, 20]\n"
     ]
    }
   ],
   "source": [
    "# [ ] print numbers 10 to 20 by 2's using range\n",
    "even_list = list(range(10,21,2))\n",
    "print(even_list)\n"
   ]
  },
  {
   "cell_type": "code",
   "execution_count": 10,
   "metadata": {},
   "outputs": [
    {
     "name": "stdout",
     "output_type": "stream",
     "text": [
      "[20, 19, 18, 17, 16, 15, 14, 13, 12, 11, 10]\n"
     ]
    }
   ],
   "source": [
    "# [ ] print numbers 20 to 10 using range (need to countdown)\n",
    "# Hint: start at 20\n",
    "even_list = list(range(20,9,-1))\n",
    "print(even_list)\n"
   ]
  },
  {
   "cell_type": "code",
   "execution_count": 13,
   "metadata": {},
   "outputs": [
    {
     "name": "stdout",
     "output_type": "stream",
     "text": [
      "Tuesday\n",
      "November\n",
      "Solstice\n"
     ]
    }
   ],
   "source": [
    "# [ ] print first and every third word in spell_list\n",
    "spell_list = [\"Tuesday\", \"Wednesday\", \"February\", \"November\", \"Annual\", \"Calendar\", \"Solstice\"]\n",
    "\n",
    "for index in range(0,len(spell_list),3):\n",
    "    print(spell_list[index])"
   ]
  },
  {
   "cell_type": "markdown",
   "metadata": {
    "collapsed": true
   },
   "source": [
    "# &nbsp;\n",
    "<font size=\"6\" color=\"#B24C00\"  face=\"verdana\"> <B>Task 8</B></font>  \n",
    "\n",
    "### Program: List of letters \n",
    "- Input a word string (**word**)\n",
    "- find the string length of word \n",
    "- **use range()** to iterate through each letter in word (can use to range loops)\n",
    "- Save odd and even letters from the word as lists\n",
    "  - **odd_letters**: starting at index 0,2,...\n",
    "  - **even_letters**: starting at index 1,3,...\n",
    "- print odd and even lists"
   ]
  },
  {
   "cell_type": "code",
   "execution_count": 14,
   "metadata": {},
   "outputs": [
    {
     "name": "stdout",
     "output_type": "stream",
     "text": [
      "Odd letters: ['c', 'm', 'l', 'x', 't']\n",
      "Even letters: ['o', 'p', 'e', 'i', 'y']\n"
     ]
    }
   ],
   "source": [
    "# [ ] complete List of letters program- test with the word \"complexity\"\n",
    "word = \"complexity\"\n",
    "\n",
    "word_length = len(word)\n",
    "\n",
    "odd_letters = []   \n",
    "even_letters = []  \n",
    "\n",
    "for i in range(word_length):\n",
    "    if i % 2 == 0:\n",
    "        odd_letters.append(word[i])\n",
    "    else:\n",
    "        even_letters.append(word[i])\n",
    "\n",
    "\n",
    "print(\"Odd letters:\", odd_letters)\n",
    "print(\"Even letters:\", even_letters)\n"
   ]
  },
  {
   "cell_type": "markdown",
   "metadata": {},
   "source": [
    "# &nbsp;\n",
    "<font size=\"6\" color=\"#B24C00\"  face=\"verdana\"> <B>Task 9: fix the error</B></font>\n"
   ]
  },
  {
   "cell_type": "code",
   "execution_count": 15,
   "metadata": {},
   "outputs": [
    {
     "name": "stdout",
     "output_type": "stream",
     "text": [
      "1\n",
      "3\n",
      "5\n",
      "7\n",
      "9\n"
     ]
    }
   ],
   "source": [
    "# [ ] fix the error printing odd numbers 1 - 9\n",
    "for num in range(1,10,2):\n",
    "    print(num)\n",
    "\n",
    "\n"
   ]
  },
  {
   "cell_type": "markdown",
   "metadata": {},
   "source": [
    "# Module 3 Part 3\n",
    "# The Power of List Iteration\n",
    "- for in: **`for`** loop using **`in`**\n",
    "- for range: **`for range(start,stop,step)`** \n",
    "- **more list methods: `.extend()`, `+, .reverse(), .sort()`**   \n",
    "- strings to lists, **`.split()`**, and list to strings, **`.join()`**     \n",
    "\n",
    "\n",
    "----- \n",
    "\n",
    "><font size=\"5\" color=\"#00A0B2\"  face=\"verdana\"> <B>Student will be able to</B></font>  \n",
    "- Iterate through Lists using **`for`** with **`in`**\n",
    "- Use **`for range()`** in looping operations \n",
    "- **Use list methods `.extend()`, `+, .reverse(), .sort()`**  \n",
    "- convert between lists and strings using  **`.split()`** and **`.join()`**"
   ]
  },
  {
   "cell_type": "markdown",
   "metadata": {},
   "source": [
    "# &nbsp;\n",
    "<font size=\"6\" color=\"#00A0B2\"  face=\"verdana\"> <B>Concepts</B></font>\n",
    "## Combine Lists\n",
    "## `+`  list addition\n",
    "##  `.extend()` list method   \n",
    "\n",
    "### combine lists with `+` and `.extend()`\n",
    "```python\n",
    "visited_cities = [\"New York\", \"Shanghai\", \"Munich\", \"Toyko\", \"Dubai\", \"Mexico City\", \"São Paulo\", \"Hyderabad\"]\n",
    "wish_cities = [\"Reykjavík\", \"Moscow\", \"Beijing\", \"Lamu\"]\n",
    "# combine in a new list\n",
    "all_cities = visited_cities + wish_cities\n",
    "\n",
    "# add a list to an existing list\n",
    "visitied_cities.extend(wish_cities)\n",
    "```"
   ]
  },
  {
   "cell_type": "markdown",
   "metadata": {},
   "source": [
    "\n",
    "<font size=\"4\" color=\"#00A0B2\"  face=\"verdana\"> <B>Examples</B></font>"
   ]
  },
  {
   "cell_type": "code",
   "execution_count": 16,
   "metadata": {},
   "outputs": [
    {
     "name": "stdout",
     "output_type": "stream",
     "text": [
      "ALL CITIES ['New York', 'Shanghai', 'Munich', 'Toyko', 'Dubai', 'Mexico City', 'São Paulo', 'Hyderabad', 'Reykjavík', 'Moscow', 'Beijing', 'Lamu']\n"
     ]
    }
   ],
   "source": [
    "# [ ] review and run example\n",
    "visited_cities = [\"New York\", \"Shanghai\", \"Munich\", \"Toyko\", \"Dubai\", \"Mexico City\", \"São Paulo\", \"Hyderabad\"]\n",
    "wish_cities = [\"Reykjavík\", \"Moscow\", \"Beijing\", \"Lamu\"]\n",
    "\n",
    "# .extend() \n",
    "# extending visited_cities list (IN PLACE) by concatenating wish_cities\n",
    "visited_cities.extend(wish_cities)\n",
    "print(\"ALL CITIES\",visited_cities)"
   ]
  },
  {
   "cell_type": "code",
   "execution_count": 17,
   "metadata": {},
   "outputs": [
    {
     "name": "stdout",
     "output_type": "stream",
     "text": [
      "ALL CITIES\n",
      "New York\n",
      "Shanghai\n",
      "Munich\n",
      "Toyko\n",
      "Dubai\n",
      "Mexico City\n",
      "São Paulo\n",
      "Hyderabad\n",
      "Reykjavík\n",
      "Moscow\n",
      "Beijing\n",
      "Lamu\n"
     ]
    }
   ],
   "source": [
    "# [ ] review and run example\n",
    "visited_cities = [\"New York\", \"Shanghai\", \"Munich\", \"Toyko\", \"Dubai\", \"Mexico City\", \"São Paulo\", \"Hyderabad\"]\n",
    "wish_cities = [\"Reykjavík\", \"Moscow\", \"Beijing\", \"Lamu\"]\n",
    "\n",
    "# (+) Addition operator for lists creates a (NEW) combined List\n",
    "all_cities = visited_cities + wish_cities\n",
    "\n",
    "print(\"ALL CITIES\")\n",
    "for city in all_cities:\n",
    "    print(city)"
   ]
  },
  {
   "cell_type": "code",
   "execution_count": 18,
   "metadata": {},
   "outputs": [
    {
     "name": "stdout",
     "output_type": "stream",
     "text": [
      "Team A: [0, 2, 2, 2, 4, 4, 4, 5, 6, 6, 6] \n",
      "Team B: [0, 0, 0, 1, 1, 2, 3, 3, 3, 6, 8]\n",
      "Team Totals [0, 2, 2, 2, 4, 4, 4, 5, 6, 6, 6, 0, 0, 0, 1, 1, 2, 3, 3, 3, 6, 8]\n"
     ]
    }
   ],
   "source": [
    "# [ ] review and run example\n",
    "team_a = [0,2,2,2,4,4,4,5,6,6,6]\n",
    "team_b = [0,0,0,1,1,2,3,3,3,6,8]\n",
    "print(\"Team A:\", team_a, \"\\nTeam B:\",team_b)\n",
    "\n",
    "# (+) Addition operator \n",
    "team_totals = team_a + team_b\n",
    "print(\"Team Totals\", team_totals)"
   ]
  },
  {
   "cell_type": "code",
   "execution_count": 19,
   "metadata": {},
   "outputs": [
    {
     "name": "stdout",
     "output_type": "stream",
     "text": [
      "Team_a extended [0, 2, 2, 2, 4, 4, 4, 5, 6, 6, 6, 0, 0, 0, 1, 1, 2, 3, 3, 3, 6, 8]\n"
     ]
    }
   ],
   "source": [
    "# [ ] review and run example after running cell above\n",
    "# .extend() \n",
    "team_a.extend(team_b)\n",
    "print(\"Team_a extended\", team_a)\n",
    "\n",
    "# what happens if you keep running this cell?"
   ]
  },
  {
   "cell_type": "markdown",
   "metadata": {
    "collapsed": true
   },
   "source": [
    "# &nbsp;\n",
    "<font size=\"6\" color=\"#B24C00\"  face=\"verdana\"> <B>Task 10</B></font>\n",
    "\n",
    "### combine lists"
   ]
  },
  {
   "cell_type": "code",
   "execution_count": null,
   "metadata": {},
   "outputs": [],
   "source": [
    "# [ ] extend the list common_birds with list birds_seen which you must create\n",
    "common_birds = [\"chicken\", \"blue jay\", \"crow\", \"pigeon\"]\n",
    " \n"
   ]
  },
  {
   "cell_type": "code",
   "execution_count": null,
   "metadata": {},
   "outputs": [],
   "source": [
    "# [ ] Create 2 lists zero_nine and ten_onehundred that contain 1-9, and 10 - 100 by 10's.\n",
    "# [ ] use list addition to concatenate the lists into all_num and print\n",
    "\n"
   ]
  },
  {
   "cell_type": "markdown",
   "metadata": {},
   "source": [
    "# &nbsp;\n",
    "<font size=\"6\" color=\"#00A0B2\"  face=\"verdana\"> <B>Concepts</B></font>\n",
    "## .reverse() : reverse a list in place\n",
    "```python\n",
    "cities_1 = [\"Dubai\", \"Mexico City\", \"São Paulo\", \"Hyderabad\"]\n",
    "\n",
    "print(\"regular\", cities_1)\n",
    "cities_1.reverse()\n",
    "print(\"reversed\", cities_1)\n",
    "```\n"
   ]
  },
  {
   "cell_type": "markdown",
   "metadata": {},
   "source": [
    "\n",
    "<font size=\"4\" color=\"#00A0B2\"  face=\"verdana\"> <B>Examples</B></font>"
   ]
  },
  {
   "cell_type": "code",
   "execution_count": 44,
   "metadata": {},
   "outputs": [
    {
     "name": "stdout",
     "output_type": "stream",
     "text": [
      "regular ['Dubai', 'Mexico City', 'São Paulo', 'Hyderabad']\n",
      "reversed ['Hyderabad', 'São Paulo', 'Mexico City', 'Dubai']\n"
     ]
    }
   ],
   "source": [
    "# [ ] review and run example\n",
    "cities_1 = [\"Dubai\", \"Mexico City\", \"São Paulo\", \"Hyderabad\"]\n",
    "\n",
    "print(\"regular\", cities_1)\n",
    "cities_1.reverse()\n",
    "print(\"reversed\", cities_1)"
   ]
  },
  {
   "cell_type": "code",
   "execution_count": 45,
   "metadata": {},
   "outputs": [
    {
     "name": "stdout",
     "output_type": "stream",
     "text": [
      "regular list [0, 1, 2, 3, 4, 5, 6, 7, 8, 9, 10, 20, 30, 40, 50, 60, 70, 80, 90, 100] \n",
      "\n",
      "reverse list [100, 90, 80, 70, 60, 50, 40, 30, 20, 10, 9, 8, 7, 6, 5, 4, 3, 2, 1, 0] \n",
      "\n",
      "Three Multiple\n",
      "90\n",
      "60\n",
      "30\n",
      "9\n",
      "6\n",
      "3\n",
      "0\n"
     ]
    }
   ],
   "source": [
    "# [ ] review and run example\n",
    "all_num = [0, 1, 2, 3, 4, 5, 6, 7, 8, 9, 10, 20, 30, 40, 50, 60, 70, 80, 90, 100]\n",
    "print(\"regular list\",all_num, \"\\n\")\n",
    "all_num.reverse()\n",
    "print(\"reverse list\",all_num, \"\\n\")\n",
    "num_len = len(all_num)\n",
    "\n",
    "print(\"Three Multiple\")\n",
    "for num in all_num:\n",
    "    if num/3 == int(num/3):\n",
    "        print(num)\n",
    "    else:\n",
    "        pass\n",
    "    "
   ]
  },
  {
   "cell_type": "code",
   "execution_count": 46,
   "metadata": {},
   "outputs": [
    {
     "name": "stdout",
     "output_type": "stream",
     "text": [
      "before list [0, 1, 2, 3, 4, 5, 6, 7, 8, 9, 10, 11, 12, 13, 14, 15, 16, 17, 18, 19, 20]\n",
      "after list [20, 19, 18, 17, 16, 15, 14, 13, 12, 11, 10, 9, 8, 7, 6, 5, 4, 3, 2, 1, 0]\n"
     ]
    }
   ],
   "source": [
    "# [ ] review and run example\n",
    "# create a list of  numbers by casting a range \n",
    "count_list = list(range(21))\n",
    "print(\"before list\", count_list)\n",
    "\n",
    "# and reverse\n",
    "count_list.reverse()\n",
    "print(\"after list\", count_list)"
   ]
  },
  {
   "cell_type": "markdown",
   "metadata": {
    "collapsed": true
   },
   "source": [
    "# &nbsp;\n",
    "<font size=\"6\" color=\"#B24C00\"  face=\"verdana\"> <B>Task 11</B></font>\n",
    "\n",
    "## .reverse()"
   ]
  },
  {
   "cell_type": "code",
   "execution_count": 1,
   "metadata": {},
   "outputs": [
    {
     "name": "stdout",
     "output_type": "stream",
     "text": [
      "Multiples of 5: [5, 10, 15, 20, 25, 30, 35, 40, 45, 50, 55, 60, 65, 70, 75, 80, 85, 90, 95, 100]\n",
      "Reversed list: [100, 95, 90, 85, 80, 75, 70, 65, 60, 55, 50, 45, 40, 35, 30, 25, 20, 15, 10, 5]\n"
     ]
    }
   ],
   "source": [
    "# [ ] create and  print a list of multiples of 5 from 5 to 100\n",
    "# { ] reverse the list and print\n",
    "multiples = list(range(5, 101, 5))\n",
    "print(\"Multiples of 5:\", multiples)\n",
    "\n",
    "reversed_multiples = multiples[::-1]\n",
    "print(\"Reversed list:\", reversed_multiples)\n"
   ]
  },
  {
   "cell_type": "code",
   "execution_count": 2,
   "metadata": {},
   "outputs": [
    {
     "name": "stdout",
     "output_type": "stream",
     "text": [
      "Mirrored list: [44, 40, 36, 32, 28, 24, 20, 16, 12, 8, 4, 4, 8, 12, 16, 20, 24, 28, 32, 36, 40, 44]\n"
     ]
    }
   ],
   "source": [
    "# [ ] Create two lists: fours & more_fours containing multiples of four from 4 to 44\n",
    "# [ ] combine and print so that the output is mirrored [44, 40,...8, 4, 4, 8, ...40, 44]\n",
    "fours = list(range(4, 45, 4))\n",
    "\n",
    "more_fours = list(range(4, 45, 4))\n",
    "\n",
    "mirrored = fours[::-1] + more_fours\n",
    "\n",
    "print(\"Mirrored list:\", mirrored)\n"
   ]
  },
  {
   "cell_type": "markdown",
   "metadata": {},
   "source": [
    "# &nbsp;\n",
    "<font size=\"6\" color=\"#00A0B2\"  face=\"verdana\"> <B>Concepts</B></font>  \n",
    "\n",
    "## .sort() and sorted()\n",
    "\n",
    "### .sort() in place  \n",
    "**.sort()** - orders a list in place \n",
    "```python\n",
    "quiz_scores = [20, 19, 20, 15, 20, 20, 20, 18, 18, 18, 19]\n",
    "quiz_scores.sort()\n",
    "```  \n",
    "\n",
    "### sorted() copy\n",
    "**sorted()** - creates an ordered list copy \n",
    "```python\n",
    "game_points = [3, 14, 0, 8, 21, 1, 3, 8]\n",
    "sorted_points = sorted(game_points)\n",
    "```"
   ]
  },
  {
   "cell_type": "markdown",
   "metadata": {},
   "source": [
    "# &nbsp;\n",
    "<font size=\"6\" color=\"#00A0B2\"  face=\"verdana\"> <B>Examples</B></font>  \n",
    "### .sort() and sorted()"
   ]
  },
  {
   "cell_type": "code",
   "execution_count": 47,
   "metadata": {},
   "outputs": [
    {
     "name": "stdout",
     "output_type": "stream",
     "text": [
      "quiz_scores: [15, 18, 18, 18, 19, 19, 20, 20, 20, 20, 20]\n"
     ]
    }
   ],
   "source": [
    "# [ ] review and run example\n",
    "quiz_scores = [20, 19, 20, 15, 20, 20, 20, 18, 18, 18, 19]\n",
    "\n",
    "# use .sort()\n",
    "quiz_scores.sort()\n",
    "\n",
    "print(\"quiz_scores:\", quiz_scores)"
   ]
  },
  {
   "cell_type": "code",
   "execution_count": 48,
   "metadata": {},
   "outputs": [
    {
     "name": "stdout",
     "output_type": "stream",
     "text": [
      "game_points: [3, 14, 0, 8, 21, 1, 3, 8]\n",
      "sorted_points: [0, 1, 3, 3, 8, 8, 14, 21]\n"
     ]
    }
   ],
   "source": [
    "# [ ] review and run example\n",
    "game_points = [3, 14, 0, 8, 21, 1, 3, 8]\n",
    "\n",
    "# use sorted()\n",
    "sorted_points = sorted(game_points)\n",
    "\n",
    "print(\"game_points:\", game_points)\n",
    "print(\"sorted_points:\", sorted_points)"
   ]
  },
  {
   "cell_type": "code",
   "execution_count": 49,
   "metadata": {},
   "outputs": [
    {
     "name": "stdout",
     "output_type": "stream",
     "text": [
      "Unsorted ['Dubai', 'Mexico City', 'São Paulo', 'Hyderabad']\n",
      "Sorted ['Dubai', 'Hyderabad', 'Mexico City', 'São Paulo']\n"
     ]
    }
   ],
   "source": [
    "# [ ] review and run example\n",
    "cities_1 = [\"Dubai\", \"Mexico City\", \"São Paulo\", \"Hyderabad\"]\n",
    "\n",
    "print(\"Unsorted\", cities_1)\n",
    "cities_1.sort()\n",
    "print(\"Sorted\", cities_1)"
   ]
  },
  {
   "cell_type": "markdown",
   "metadata": {
    "collapsed": true
   },
   "source": [
    "# &nbsp;\n",
    "<font size=\"6\" color=\"#B24C00\"  face=\"verdana\"> <B>Task 12</B></font>  \n",
    "## .sort() & sorted()"
   ]
  },
  {
   "cell_type": "code",
   "execution_count": 3,
   "metadata": {},
   "outputs": [
    {
     "name": "stdout",
     "output_type": "stream",
     "text": [
      "Filtered visited cities: ['Dubai', 'Hyderabad', 'Mexico City', 'Munich', 'New York']\n"
     ]
    }
   ],
   "source": [
    "# [ ] print cites from visited_cities list in alphbetical order using .sort()\n",
    "# [ ] only print cities that names start \"Q\" or earlier\n",
    "visited_cities = [\"New York\", \"Shanghai\", \"Munich\", \"Toyko\", \"Dubai\", \"Mexico City\", \"São Paulo\", \"Hyderabad\"]\n",
    "visited_cities.sort()\n",
    "\n",
    "filtered_cities = [city for city in visited_cities if city[0] <= \"Q\"]\n",
    "print(\"Filtered visited cities:\", filtered_cities)\n"
   ]
  },
  {
   "cell_type": "code",
   "execution_count": 4,
   "metadata": {},
   "outputs": [
    {
     "name": "stdout",
     "output_type": "stream",
     "text": [
      "Visited Cities: ['New York', 'Shanghai', 'Munich', 'Toyko', 'Dubai', 'Mexico City', 'São Paulo', 'Hyderabad']\n",
      "Sorted Cities (more than 5 characters): ['Hyderabad', 'Mexico City', 'Munich', 'New York', 'Shanghai', 'São Paulo']\n"
     ]
    }
   ],
   "source": [
    "# [ ] make a sorted copy (sorted_cities) of visited_cities list\n",
    "# [ ] remove city names 5 characters or less from sorted_cities \n",
    "# [ ] print visitied cites and sorted cities\n",
    "visited_cities = [\"New York\", \"Shanghai\", \"Munich\", \"Toyko\", \"Dubai\", \"Mexico City\", \"São Paulo\", \"Hyderabad\"]\n",
    "\n",
    "sorted_cities = sorted(visited_cities)\n",
    "\n",
    "sorted_cities = [city for city in sorted_cities if len(city) > 5]\n",
    "\n",
    "print(\"Visited Cities:\", visited_cities)\n",
    "print(\"Sorted Cities (more than 5 characters):\", sorted_cities)"
   ]
  },
  {
   "cell_type": "markdown",
   "metadata": {
    "collapsed": true
   },
   "source": [
    "# &nbsp;\n",
    "<font size=\"6\" color=\"#B24C00\"  face=\"verdana\"> <B>Task 13</B></font>  \n",
    "## Program: Merge & Sort Animals\n",
    "Create a program that \n",
    "- takes user to build a list: add_animals \n",
    "- merges add_anmials with exisiting list: anmimals\n",
    "- provides a sorted list to view in alpa or reverse alpha order"
   ]
  },
  {
   "cell_type": "markdown",
   "metadata": {},
   "source": [
    "\n",
    "<font size=\"4\" color=\"#B24C00\"  face=\"verdana\"> <B>step 1 </B></font> get user input to build add_animals list\n"
   ]
  },
  {
   "cell_type": "code",
   "execution_count": 7,
   "metadata": {},
   "outputs": [
    {
     "name": "stdout",
     "output_type": "stream",
     "text": [
      "Enter animal names one by one (press Enter without typing anything to finish):\n",
      "Merged list sorted in alphabetical order:\n",
      "['bird', 'cat', 'dog', 'leg']\n"
     ]
    }
   ],
   "source": [
    "# [ ] build a list (add_animals) using a while loop, stop adding when an empty string is entered\n",
    "animals = [\"dog\", \"cat\", \"bird\"]\n",
    "add_animals = []\n",
    "\n",
    "print(\"Enter animal names one by one (press Enter without typing anything to finish):\")\n",
    "while True:\n",
    "    animal = input(\"Enter an animal: \").lower()\n",
    "    if animal == \"\":\n",
    "        break\n",
    "    add_animals.append(animal)\n",
    "\n",
    "merged_animals = animals + add_animals\n",
    "\n",
    "sort_choice = input(\"Type 'A' for alphabetical order or 'R' for reverse alphabetical order: \")\n",
    "\n",
    "if sort_choice.lower() == 'a':\n",
    "    sorted_animals = sorted(merged_animals)\n",
    "    print(\"Merged list sorted in alphabetical order:\")\n",
    "elif sort_choice.lower() == 'r':\n",
    "    sorted_animals = sorted(merged_animals, reverse=True)\n",
    "    print(\"Merged list sorted in reverse alphabetical order:\")\n",
    "else:\n",
    "    sorted_animals = sorted(merged_animals)\n",
    "    print(\"Invalid input. Defaulting to alphabetical order:\")\n",
    "\n",
    "print(sorted_animals)"
   ]
  },
  {
   "cell_type": "markdown",
   "metadata": {},
   "source": [
    "\n",
    "<font size=\"4\" color=\"#B24C00\"  face=\"verdana\"> <B>step 2 </B></font> Merge the lists: add_animals into animals\n"
   ]
  },
  {
   "cell_type": "code",
   "execution_count": 8,
   "metadata": {},
   "outputs": [
    {
     "name": "stdout",
     "output_type": "stream",
     "text": [
      "Enter animal names to add (press Enter without typing to finish):\n",
      "Sorted animals: ['Armadillo', 'Chimpanzee', 'Panther', 'Wolf', 'jet']\n"
     ]
    }
   ],
   "source": [
    "# [ ] extend the lists into animals, then sort \n",
    "animals = [\"Chimpanzee\", \"Panther\", \"Wolf\", \"Armadillo\"]\n",
    "\n",
    "add_animals = []\n",
    "print(\"Enter animal names to add (press Enter without typing to finish):\")\n",
    "while True:\n",
    "    new_animal = input(\"Enter an animal: \")\n",
    "    if new_animal == \"\":\n",
    "        break\n",
    "    add_animals.append(new_animal)\n",
    "\n",
    "animals.extend(add_animals)\n",
    "animals.sort()\n",
    "\n",
    "print(\"Sorted animals:\", animals)"
   ]
  },
  {
   "cell_type": "markdown",
   "metadata": {},
   "source": [
    "\n",
    "<font size=\"4\" color=\"#B24C00\"  face=\"verdana\"> <B>step 3 </B></font> Allow animals list to be viewed alpha or reverse alpha order\n"
   ]
  },
  {
   "cell_type": "code",
   "execution_count": null,
   "metadata": {},
   "outputs": [],
   "source": [
    "# [ ] get input if list should be viewed alpha or reverse alpha and display list\n",
    "\n"
   ]
  },
  {
   "cell_type": "markdown",
   "metadata": {},
   "source": [
    "# Module 3 Part 4\n",
    "# The Power of List Iteration\n",
    "- for in: **`for`** loop using **`in`**\n",
    "- for range: **`for range(start,stop,step)`** \n",
    "- more list methods: **`.extend()`, `+, .reverse(), .sort()`**     \n",
    "- **strings to lists,`.split()`, and list to strings, `.join()`** \n",
    "- **list cast & `print(\"hello\", end='')`**\n",
    "\n",
    "\n",
    "----- \n",
    "\n",
    "><font size=\"5\" color=\"#00A0B2\"  face=\"verdana\"> <B>Student will be able to</B></font>  \n",
    "- Iterate through Lists using **`for`** with **`in`**\n",
    "- Use **`for range()`** in looping operations  \n",
    "- Use list methods **`.extend()`, `+, .reverse(), .sort()`**  \n",
    "- **convert between lists and strings using  `.split()` and `.join()`**\n",
    "- **cast strings to lists / direct multiple print outputs to a single line**"
   ]
  },
  {
   "cell_type": "markdown",
   "metadata": {},
   "source": [
    "# &nbsp;\n",
    "<font size=\"6\" color=\"#00A0B2\"  face=\"verdana\"> <B>Concepts</B></font>\n",
    "## Converting a string to a list with `.split()`\n",
    "### `.split()`  by default, splits a string at spaces (\" \") to create a list\n",
    "```python\n",
    "tip = \"Notebooks can be exported as .pdf\"\n",
    "tip_words = tip.split()\n",
    "\n",
    "for word in tip_words:\n",
    "    print(word)\n",
    "```"
   ]
  },
  {
   "cell_type": "markdown",
   "metadata": {},
   "source": [
    "\n",
    "<font size=\"4\" color=\"#00A0B2\"  face=\"verdana\"> <B>Examples</B></font>"
   ]
  },
  {
   "cell_type": "code",
   "execution_count": 9,
   "metadata": {},
   "outputs": [
    {
     "name": "stdout",
     "output_type": "stream",
     "text": [
      "STRING: Notebooks can be exported as .pdf\n",
      "LIST: ['Notebooks', 'can', 'be', 'exported', 'as', '.pdf'] \n",
      "\n",
      "Notebooks\n",
      "can\n",
      "be\n",
      "exported\n",
      "as\n",
      ".pdf\n"
     ]
    }
   ],
   "source": [
    "# [ ] review and run example\n",
    "tip = \"Notebooks can be exported as .pdf\"\n",
    "tip_words = tip.split()\n",
    "\n",
    "print(\"STRING:\", tip)\n",
    "print(\"LIST:\", tip_words, \"\\n\")\n",
    "\n",
    "for word in tip_words:\n",
    "    print(word)"
   ]
  },
  {
   "cell_type": "code",
   "execution_count": 10,
   "metadata": {},
   "outputs": [
    {
     "name": "stdout",
     "output_type": "stream",
     "text": [
      "down\n",
      "falling\n",
      "is\n",
      "bridge\n",
      "London\n"
     ]
    }
   ],
   "source": [
    "# [ ] review and run example\n",
    "rhyme = \"London bridge is falling down\"\n",
    "\n",
    "rhyme_words = rhyme.split()\n",
    "\n",
    "rhyme_words.reverse()\n",
    "\n",
    "for word in rhyme_words:\n",
    "    print(word)"
   ]
  },
  {
   "cell_type": "markdown",
   "metadata": {
    "collapsed": true
   },
   "source": [
    "# &nbsp;\n",
    "<font size=\"6\" color=\"#B24C00\"  face=\"verdana\"> <B>Task 14</B></font>\n",
    "\n",
    "### using `.split()`"
   ]
  },
  {
   "cell_type": "code",
   "execution_count": 11,
   "metadata": {},
   "outputs": [
    {
     "name": "stdout",
     "output_type": "stream",
     "text": [
      "Jack\n",
      "and\n",
      "Jill\n",
      "went\n",
      "up\n",
      "the\n",
      "hill\n",
      "To\n",
      "fetch\n",
      "a\n",
      "pail\n",
      "of\n",
      "water\n"
     ]
    }
   ],
   "source": [
    "# [ ] split the string(rhyme) into a list of words (rhyme_words)\n",
    "# [ ] print each word on it's own line\n",
    "rhyme = 'Jack and Jill went up the hill To fetch a pail of water' \n",
    "rhyme_words = rhyme.split()\n",
    "\n",
    "for word in rhyme_words:\n",
    "    print(word)\n"
   ]
  },
  {
   "cell_type": "code",
   "execution_count": 12,
   "metadata": {},
   "outputs": [
    {
     "name": "stdout",
     "output_type": "stream",
     "text": [
      "Python\n",
      "spaces\n",
      "indentation\n"
     ]
    }
   ],
   "source": [
    "# [ ] split code_tip into a list and print the first and every other word\n",
    "code_tip = \"Python uses spaces for indentation\"\n",
    "words = code_tip.split()\n",
    "\n",
    "for word in words[::2]:\n",
    "    print(word)\n"
   ]
  },
  {
   "cell_type": "markdown",
   "metadata": {},
   "source": [
    "# &nbsp;\n",
    "<font size=\"6\" color=\"#00A0B2\"  face=\"verdana\"> <B>Concepts</B></font>\n",
    "## `.split('-')`\n",
    "### to split on characters other than \" \" (space), provide `.split()` a string argument to use as break points\n",
    "```python \n",
    "code_tip = \"Python-uses-spaces-for-indentation\"\n",
    "tip_words = code_tip.split('-')\n",
    "```"
   ]
  },
  {
   "cell_type": "markdown",
   "metadata": {},
   "source": [
    "\n",
    "<font size=\"4\" color=\"#00A0B2\"  face=\"verdana\"> <B>Examples</B></font>  \n",
    "### `.split('-') : split with an argument"
   ]
  },
  {
   "cell_type": "code",
   "execution_count": 13,
   "metadata": {},
   "outputs": [
    {
     "name": "stdout",
     "output_type": "stream",
     "text": [
      "['Python', 'uses', 'spaces', 'for', 'indentation']\n"
     ]
    }
   ],
   "source": [
    "# [ ] review and run example\n",
    "code_tip = \"Python-uses-spaces-for-indentation\"\n",
    "tip_words = code_tip.split('-')\n",
    "\n",
    "print(tip_words)"
   ]
  },
  {
   "cell_type": "code",
   "execution_count": 14,
   "metadata": {},
   "outputs": [
    {
     "name": "stdout",
     "output_type": "stream",
     "text": [
      "Python uses spaces for indentation\n",
      "['Python uses sp', 'ces for indent', 'tion']\n"
     ]
    }
   ],
   "source": [
    "# [ ] review and run example - study the list print output\n",
    "code_tip = \"Python uses spaces for indentation\"\n",
    "\n",
    "# split on \"a\"\n",
    "tip_words = code_tip.split('a')\n",
    "print(code_tip)\n",
    "print(tip_words)"
   ]
  },
  {
   "cell_type": "code",
   "execution_count": 15,
   "metadata": {},
   "outputs": [
    {
     "name": "stdout",
     "output_type": "stream",
     "text": [
      "printed without line breaks ['Jack and Jill went up the hill', 'To fetch a pail of water', 'Jack fell down and broke his crown', 'And Jill came tumbling after'] \n",
      "\n",
      "And Jill came tumbling after\n",
      "Jack fell down and broke his crown\n",
      "To fetch a pail of water\n",
      "Jack and Jill went up the hill\n"
     ]
    }
   ],
   "source": [
    "# [ ] review and run example\n",
    "# triple quotes ''' ''' preserve formatting such as spaces and line breaks\n",
    "big_quote = \"\"\"Jack and Jill went up the hill\n",
    "To fetch a pail of water\n",
    "Jack fell down and broke his crown\n",
    "And Jill came tumbling after\"\"\"\n",
    "\n",
    "# split on line breaks (\\n)\n",
    "quote_lines = big_quote.split('\\n')\n",
    "print(\"printed without line breaks\",quote_lines, '\\n')\n",
    "\n",
    "# print the list in reverse with index slicing\n",
    "for line in quote_lines[::-1]:\n",
    "    print(line)\n"
   ]
  },
  {
   "cell_type": "markdown",
   "metadata": {
    "collapsed": true
   },
   "source": [
    "# &nbsp;\n",
    "<font size=\"6\" color=\"#B24C00\"  face=\"verdana\"> <B>Task 15</B></font>\n",
    "\n",
    "## `.split()`"
   ]
  },
  {
   "cell_type": "code",
   "execution_count": 16,
   "metadata": {},
   "outputs": [
    {
     "name": "stdout",
     "output_type": "stream",
     "text": [
      "Write Code Frequently\n",
      "Save Code Frequently\n",
      "Comment Code Frequently\n",
      "Study Code Frequently\n"
     ]
    }
   ],
   "source": [
    "# [ ] split poem into a list of phrases by splitting on \"*\" a\n",
    "# [ ] print each phrase on a new line in title case\n",
    "poem = \"Write code frequently*Save code frequently*Comment code frequently*Study code frequently*\"\n",
    "phrases = poem.split(\"*\")\n",
    "\n",
    "for phrase in phrases:\n",
    "    if phrase:  \n",
    "        print(phrase.title())"
   ]
  },
  {
   "cell_type": "markdown",
   "metadata": {},
   "source": [
    "# &nbsp;\n",
    "<font size=\"6\" color=\"#00A0B2\"  face=\"verdana\"> <B>Concepts</B></font>  \n",
    "\n",
    "## `.join()` &nbsp; build a string from a list\n",
    "### `.join()` is a method applied to a separator string and iterates through its argument\n",
    "```python\n",
    "tip_words = ['Notebooks', 'can', 'be', 'exported', 'as', '.pdf'] \n",
    "\n",
    "\" \".join(tip_words)\n",
    "```\n",
    "a space (\" \") is the separator that gets injected between the objects in the argument (the list \"tip_words\")"
   ]
  },
  {
   "cell_type": "markdown",
   "metadata": {},
   "source": [
    "\n",
    "<font size=\"4\" color=\"#00A0B2\"  face=\"verdana\"> <B>Examples</B></font>  \n",
    "## `.join()`"
   ]
  },
  {
   "cell_type": "code",
   "execution_count": 17,
   "metadata": {},
   "outputs": [
    {
     "name": "stdout",
     "output_type": "stream",
     "text": [
      "Notebooks can be exported as .pdf\n"
     ]
    }
   ],
   "source": [
    "# [ ] review and run example\n",
    "tip_words = ['Notebooks', 'can', 'be', 'exported', 'as', '.pdf'] \n",
    "\n",
    "# join tip_words objects with spaces\n",
    "print(\" \".join(tip_words))"
   ]
  },
  {
   "cell_type": "code",
   "execution_count": 18,
   "metadata": {},
   "outputs": [
    {
     "name": "stdout",
     "output_type": "stream",
     "text": [
      "Python\n"
     ]
    }
   ],
   "source": [
    "# [ ] review and run example\n",
    "no_space = \"\"\n",
    "letters = [\"P\", \"y\", \"t\", \"h\", \"o\", \"n\"]\n",
    "print(no_space.join(letters))"
   ]
  },
  {
   "cell_type": "code",
   "execution_count": 19,
   "metadata": {},
   "outputs": [
    {
     "name": "stdout",
     "output_type": "stream",
     "text": [
      "I-t-e-r-a-t-i-o-n\n",
      "I t e r a t i o n\n",
      "I...t...e...r...a...t...i...o...n\n"
     ]
    }
   ],
   "source": [
    "# [ ] review and run example - .join() iterates through sequences\n",
    "dash = \"-\"\n",
    "space = \" \"\n",
    "word = \"Iteration\"\n",
    "ellipises = \"...\"\n",
    "\n",
    "dash_join = dash.join(word)\n",
    "print(dash_join)\n",
    "print(space.join(word))\n",
    "print(ellipises.join(word))"
   ]
  },
  {
   "cell_type": "markdown",
   "metadata": {
    "collapsed": true
   },
   "source": [
    "# &nbsp;\n",
    "<font size=\"6\" color=\"#B24C00\"  face=\"verdana\"> <B>Task 16</B></font>  \n",
    "## `.join()`"
   ]
  },
  {
   "cell_type": "code",
   "execution_count": 20,
   "metadata": {},
   "outputs": [
    {
     "name": "stdout",
     "output_type": "stream",
     "text": [
      "A*s*t*e*r*i*s*k\n"
     ]
    }
   ],
   "source": [
    "# [ ] .join() letters list objects with an Asterisk: \"*\"\n",
    "letters = [\"A\", \"s\", \"t\", \"e\", \"r\", \"i\", \"s\", \"k\"]\n",
    "result = \"*\".join(letters)\n",
    "print(result)\n"
   ]
  },
  {
   "cell_type": "markdown",
   "metadata": {
    "collapsed": true
   },
   "source": [
    "# &nbsp;\n",
    "<font size=\"6\" color=\"#B24C00\"  face=\"verdana\"> <B>Task 17</B></font>  \n",
    "## Program: Choose the separator\n",
    "- get user input on what to use to join words (\" \", *, -, etc...) - store in variable: separator\n",
    "- join pharse_words with the separator and print"
   ]
  },
  {
   "cell_type": "code",
   "execution_count": 21,
   "metadata": {},
   "outputs": [
    {
     "name": "stdout",
     "output_type": "stream",
     "text": [
      "Jack*and*Jill*went*up*the*hill*To*fetch*a*pail*of*water\n"
     ]
    }
   ],
   "source": [
    "# [ ] complete Choose the separator\n",
    "phrase_words = ['Jack', 'and', 'Jill', 'went', 'up', 'the', 'hill', 'To', 'fetch', 'a', 'pail', 'of', 'water']\n",
    "separator = input(\"Enter the separator you want to use: \")\n",
    "result = separator.join(phrase_words)\n",
    "print(result)\n"
   ]
  },
  {
   "cell_type": "markdown",
   "metadata": {},
   "source": [
    "# &nbsp;\n",
    "<font size=\"6\" color=\"#00A0B2\"  face=\"verdana\"> <B>Concept</B></font>\n",
    "## More Python string tools (tricks?)\n",
    "### Cast a string to a list of characters  \n",
    "```python\n",
    "hello_letters = list(\"Hello\")\n",
    "```\n",
    "### print to the same line with multiple print statements (`end=`)\n",
    "or insert any character as an end in print(\"String\", end=\"+\")\n",
    "```python\n",
    "print('Hello', end = '')\n",
    "print('world')\n",
    "```"
   ]
  },
  {
   "cell_type": "markdown",
   "metadata": {},
   "source": [
    "\n",
    "<font size=\"4\" color=\"#00A0B2\"  face=\"verdana\"> <B>Examples</B></font>"
   ]
  },
  {
   "cell_type": "code",
   "execution_count": 22,
   "metadata": {},
   "outputs": [
    {
     "name": "stdout",
     "output_type": "stream",
     "text": [
      "['H', 'e', 'l', 'l', 'o']\n"
     ]
    }
   ],
   "source": [
    "# [ ] review and run example\n",
    "hello_letters = list(\"Hello\")\n",
    "print(hello_letters)"
   ]
  },
  {
   "cell_type": "code",
   "execution_count": 23,
   "metadata": {},
   "outputs": [
    {
     "name": "stdout",
     "output_type": "stream",
     "text": [
      "c~o~n~c~a~t~e~n~a~t~e~s\n"
     ]
    }
   ],
   "source": [
    "# [ ] review and run example\n",
    "# cast sting to list\n",
    "word_letters = list(\"concatenates\")\n",
    "\n",
    "# .join() concatenates the list\n",
    "# print on same line setting the end character\n",
    "print('~'.join(word_letters))"
   ]
  },
  {
   "cell_type": "code",
   "execution_count": 24,
   "metadata": {},
   "outputs": [
    {
     "name": "stdout",
     "output_type": "stream",
     "text": [
      "Hello world\n"
     ]
    }
   ],
   "source": [
    "# [ ] review and run example\n",
    "print(\"Hello \", end = '')\n",
    "print(\"world\")"
   ]
  },
  {
   "cell_type": "code",
   "execution_count": 25,
   "metadata": {},
   "outputs": [
    {
     "name": "stdout",
     "output_type": "stream",
     "text": [
      "Hello World!\n",
      "still something to learn about print()\n"
     ]
    }
   ],
   "source": [
    "# [ ] review and run example\n",
    "# This  is the default print end\n",
    "print(\"Hello World!\", end=\"\\n\")\n",
    "print('still something to learn about print()')"
   ]
  },
  {
   "cell_type": "code",
   "execution_count": 26,
   "metadata": {},
   "outputs": [
    {
     "name": "stdout",
     "output_type": "stream",
     "text": [
      "C*o*n*c*a*t*e*n*a*t*i*o*n*"
     ]
    }
   ],
   "source": [
    "# [ ] review and run example\n",
    "# end inserts any valid str character: A-z, 0-9,!,@,*,\\n,\\t or ''(empty string)...\n",
    "for letter in \"Concatenation\":\n",
    "    print(letter, end='*')"
   ]
  },
  {
   "cell_type": "markdown",
   "metadata": {},
   "source": [
    "# &nbsp;\n",
    "<font size=\"6\" color=\"#B24C00\"  face=\"verdana\"> <B>Task 18</B></font>\n",
    "## `end=\" \" ` configuration in printing\n",
    "`print('The String', end='')`"
   ]
  },
  {
   "cell_type": "code",
   "execution_count": 27,
   "metadata": {},
   "outputs": [
    {
     "name": "stdout",
     "output_type": "stream",
     "text": [
      "Line 1- Line 2- Line 3\n"
     ]
    }
   ],
   "source": [
    "# [ ] use 3 print() statements to output text to one line \n",
    "# [ ] separate the lines by using \"- \" (dash space)\n",
    "print(\"Line 1\", end=\"- \")\n",
    "print(\"Line 2\", end=\"- \")\n",
    "print(\"Line 3\")\n"
   ]
  },
  {
   "cell_type": "markdown",
   "metadata": {},
   "source": [
    "# &nbsp;\n",
    "<font size=\"6\" color=\"#B24C00\"  face=\"verdana\"> <B>Task 19</B></font>\n",
    "## cast: str to list\n",
    "`Msg_characters = list(\"Always test your code\")`"
   ]
  },
  {
   "cell_type": "code",
   "execution_count": 28,
   "metadata": {},
   "outputs": [
    {
     "name": "stdout",
     "output_type": "stream",
     "text": [
      "P\n",
      "y\n",
      "t\n",
      "h\n",
      "o\n",
      "n\n",
      "\n",
      "i\n",
      "s\n",
      "\n",
      "a\n",
      "w\n",
      "e\n",
      "s\n",
      "o\n",
      "m\n",
      "e\n",
      "\n",
      "f\n",
      "o\n",
      "r\n",
      "\n",
      "c\n",
      "o\n",
      "d\n",
      "i\n",
      "n\n",
      "g\n"
     ]
    }
   ],
   "source": [
    "# [ ] create a string (fact) of 20 or more characters and cast to a list (fact_letters)\n",
    "# [ ] iterate fact, printing each char on one line, except for spaces print a new line\n",
    "fact = \"Python is awesome for coding\"  \n",
    "fact_letters = list(fact)\n",
    "\n",
    "for char in fact_letters:\n",
    "    if char == \" \":\n",
    "        print()  \n",
    "    else:\n",
    "        print(char)\n"
   ]
  },
  {
   "cell_type": "markdown",
   "metadata": {
    "collapsed": true
   },
   "source": [
    "# &nbsp;  \n",
    "<font size=\"6\" color=\"#B24C00\"  face=\"verdana\"> <B>Task 20</B></font>  \n",
    "## Program: add the digits\n",
    "- create a 20 digit string, and cast to a list\n",
    "- then add all the digits as integers\n",
    "- print the equation and answer  \n",
    "\n",
    "Hint: use cast to sum the digits, and .join() to create the equation (1+2+3+...)"
   ]
  },
  {
   "cell_type": "code",
   "execution_count": 29,
   "metadata": {},
   "outputs": [
    {
     "name": "stdout",
     "output_type": "stream",
     "text": [
      "1+2+3+4+5+6+7+8+9+0+1+2+3+4+5+6+7+8+9+0 = 90\n"
     ]
    }
   ],
   "source": [
    "# [ ] create add the digits\n",
    "digit_string = \"12345678901234567890\"\n",
    "\n",
    "digit_list = list(digit_string)\n",
    "\n",
    "total = sum(int(digit) for digit in digit_list)\n",
    "\n",
    "equation = \"+\".join(digit_list) + \" = \" + str(total)\n",
    "print(equation)\n",
    "\n"
   ]
  },
  {
   "cell_type": "markdown",
   "metadata": {
    "collapsed": true
   },
   "source": [
    "© 2017 Microsoft adapted with persmission by Dominic Thomas"
   ]
  }
 ],
 "metadata": {
  "anaconda-cloud": {},
  "kernelspec": {
   "display_name": "Python 3",
   "language": "python",
   "name": "python3"
  },
  "language_info": {
   "codemirror_mode": {
    "name": "ipython",
    "version": 3
   },
   "file_extension": ".py",
   "mimetype": "text/x-python",
   "name": "python",
   "nbconvert_exporter": "python",
   "pygments_lexer": "ipython3",
   "version": "3.13.1"
  }
 },
 "nbformat": 4,
 "nbformat_minor": 1
}
