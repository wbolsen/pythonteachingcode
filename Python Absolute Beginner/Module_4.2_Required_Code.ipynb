{
  "cells": [
    {
      "attachments": {},
      "cell_type": "markdown",
      "metadata": {
        "collapsed": true
      },
      "source": [
        "#  Module 4 Required Coding Activity  \n",
        "Introduction to Python Unit 1 \n",
        "\n",
        "The activity is based on modules 1 - 4 and is similar to the Jupyter Notebooks **`Practice_MOD04_1-6_IntroPy.ipynb`** and **`Practice_MOD04_1-7_IntroPy.ipynb`** which you may have completed as practice.  This activity is a new version of the str_analysis() function.\n",
        "\n",
        "| Some Assignment Requirements |\n",
        "|:-------------------------------|\n",
        "|This program requires the use of<ul><li>**`while`** loop to get non-empty input</li><li>**`if, else`**</li><li>**`if, else`** (nested)</li><li>**`.isdigit()`** check for integer only input</li><li>**`.isalpha()`** check for alphabetic only input</li></ul><br/>The program should **only** use code syntax covered in modules 1 - 4.<br/><br/>The program must result in printed message analysis of the input. Be sure to include your full name in the input prompt. See the sample input for more detail.  |\n",
        "\n",
        "\n",
        "  \n",
        "## Program: `str_analysis()` Function  \n",
        "\n",
        "Create the str_analysis() function that takes 1 string argument and returns a string message.  The message will be an analysis of a test string that is passed as an argument to str_analysis(). The function should respond with messages such as:  \n",
        "- \"big number\"\n",
        "- \"small number\"\n",
        "- \"all alphabetic\"\n",
        "- \"multiple character types\"\n",
        "\n",
        "The program will call str_analysis() with a string argument from input collected within a while loop.  The while loop will test if input is empty (an empty string \"\") and continue to loop and gather input until the user submits at least 1 character (input cannot be empty).  \n",
        "\n",
        "The program then calls the str_analysis() function and prints the **return** message.\n",
        "\n",
        "\n",
        "\n",
        "#### Sample input and output:  \n",
        "enter nothing (twice) then enter a word  \n",
        "```\n",
        "[YOUR FULL NAME GOES HERE], enter word or integer: \n",
        "[YOUR FULL NAME GOES HERE], enter word or integer: \n",
        "[YOUR FULL NAME GOES HERE], enter word or integer: Hello\n",
        "\"Hello\" is all alphabetical characters!\n",
        "  \n",
        "```  \n",
        "-----    \n",
        "  \n",
        "alphabetical word input \n",
        "```\n",
        "[YOUR FULL NAME GOES HERE], enter word or integer: carbonization\n",
        "\"carbonization\" is all alphabetical characters!\n",
        "  \n",
        "```  \n",
        "-----     \n",
        "   \n",
        "numeric inputs\n",
        "```\n",
        "[YOUR FULL NAME GOES HERE], enter word or integer: 30\n",
        "30 is a smaller number than expected\n",
        "\n",
        "[YOUR FULL NAME GOES HERE], enter word or integer: 1024\n",
        "1024 is a pretty big number\n",
        "```  \n",
        "-----  \n",
        "\n",
        "\n",
        "### Loop until non-empty input is submitted  \n",
        "In the input part of the assignment keep prompting the user for input until they submit some input (non-empty).  \n",
        "\n",
        "Once the user gives input with characters use the input in calling the str_analysis() function.\n",
        "\n",
        "### Additional Details\n",
        "In the body of the str_analysis() function:\n",
        "- Check `if` string is digits  \n",
        "  - if digits: convert to `int` and check `if` greater than 99  \n",
        "    - if greater than 99 print a message about a \"big number\"  \n",
        "    - if not greater than 99 print message about \"small number\"  \n",
        "  - check if string isalpha then (since not digits)\n",
        "    - if isalpha print message about being all alpha\n",
        "  - if not isalpha print a message about being neither all alpha nor all digit  \n",
        "    \n",
        "call the function with a string from user input \n",
        "- Run and test your code before submitting"
      ]
    },
    {
      "cell_type": "code",
      "execution_count": null,
      "metadata": {
        "trusted": false
      },
      "outputs": [
        {
          "name": "stdout",
          "output_type": "stream",
          "text": [
            "\"helo 9\" is neither all alphabetical characters nor all digits.\n"
          ]
        }
      ],
      "source": [
        "# [ ] create, call and test the str_analysis() function  \n",
        "def str_analysis(test_str):\n",
        "    if test_str.isdigit():\n",
        "        num = int(test_str)\n",
        "        if num > 99:\n",
        "            return test_str + \" is a pretty big number\"\n",
        "        else:\n",
        "            return test_str + \" is a smaller number than expected\"\n",
        "    elif test_str.isalpha():\n",
        "        return '\"' + test_str + '\" is all alphabetical characters!'\n",
        "    else:\n",
        "        return '\"' + test_str + '\" is neither all alphabetical characters nor all digits.'\n",
        "\n",
        "user_input = \"\"\n",
        "while user_input == \"\":\n",
        "    user_input = input(\"William Bolsen, enter word or integer: \")\n",
        "\n",
        "result = str_analysis(user_input)\n",
        "print(result)\n",
        "\n",
        "\n",
        "\n"
      ]
    },
    {
      "cell_type": "markdown",
      "metadata": {},
      "source": [
        "Submit this by creating a python file (.py) and submitting it in D2L. Be sure to test that it works."
      ]
    }
  ],
  "metadata": {
    "kernelspec": {
      "display_name": "Python 3",
      "language": "python",
      "name": "python3"
    },
    "language_info": {
      "codemirror_mode": {
        "name": "ipython",
        "version": 3
      },
      "file_extension": ".py",
      "mimetype": "text/x-python",
      "name": "python",
      "nbconvert_exporter": "python",
      "pygments_lexer": "ipython3",
      "version": "3.13.1"
    }
  },
  "nbformat": 4,
  "nbformat_minor": 1
}
